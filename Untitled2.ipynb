{
 "cells": [
  {
   "cell_type": "markdown",
   "id": "c645bf78",
   "metadata": {},
   "source": [
    "## Learn Five Interesting Functions in PyTorch\n",
    "We will check 5 interesting functions from PyTorch Documentation with several use cases each.\n",
    "\n",
    "PyTorch is an open source machine learning library based on the Torch library, used for applications such as computer vision and natural language processing, primarily developed by Facebook's AI Research lab.( and about the chosen functions. )\n",
    "\n",
    "1)torch.zeros_like()\n",
    "\n",
    "2)torch.arange()\n",
    "\n",
    "3)torch.chunk()\n",
    "\n",
    "4)torch.reshape()\n",
    "\n",
    "5)torch.save()\n",
    "\n",
    "Before we begin, let's install and import PyTorch"
   ]
  },
  {
   "cell_type": "code",
   "execution_count": 1,
   "id": "fa090158",
   "metadata": {},
   "outputs": [],
   "source": [
    "import torch"
   ]
  },
  {
   "cell_type": "markdown",
   "id": "24d9b582",
   "metadata": {},
   "source": [
    "## Function 1 -\n",
    "\n"
   ]
  },
  {
   "cell_type": "code",
   "execution_count": 2,
   "id": "865752f8",
   "metadata": {},
   "outputs": [
    {
     "name": "stdout",
     "output_type": "stream",
     "text": [
      "tensor([[1., 2.],\n",
      "        [3., 4.]])\n"
     ]
    },
    {
     "data": {
      "text/plain": [
       "tensor([[0., 0.],\n",
       "        [0., 0.]])"
      ]
     },
     "execution_count": 2,
     "metadata": {},
     "output_type": "execute_result"
    }
   ],
   "source": [
    "#Example1 - working (change this)\n",
    "t1=torch.Tensor([[1,2],[3,4]])\n",
    "print(t1)\n",
    "torch.zeros_like(t1)"
   ]
  },
  {
   "cell_type": "markdown",
   "id": "5789fbd8",
   "metadata": {},
   "source": [
    "Example 1 - This examples create a Tensor t1 manually and then uses zeros_like to replicate it into a zeros tensor of same shape as the t1\n"
   ]
  },
  {
   "cell_type": "code",
   "execution_count": 3,
   "id": "8709a5d1",
   "metadata": {},
   "outputs": [
    {
     "name": "stdout",
     "output_type": "stream",
     "text": [
      "tensor([[30, 30, 30, 30, 30],\n",
      "        [30, 30, 30, 30, 30]])\n"
     ]
    }
   ],
   "source": [
    "t2=torch.full((2,5),30)\n",
    "print(t2)"
   ]
  },
  {
   "cell_type": "code",
   "execution_count": 4,
   "id": "a6f23bb9",
   "metadata": {},
   "outputs": [
    {
     "data": {
      "text/plain": [
       "tensor([[0, 0, 0, 0, 0],\n",
       "        [0, 0, 0, 0, 0]])"
      ]
     },
     "execution_count": 4,
     "metadata": {},
     "output_type": "execute_result"
    }
   ],
   "source": [
    "#Example- working \n",
    "torch.zeros_like(t2)"
   ]
  },
  {
   "cell_type": "markdown",
   "id": "312559b3",
   "metadata": {},
   "source": [
    "Example2-zeros_like can create new tensors with any shape input tensor passed to it provided it the input tensor should be having correct dimensions"
   ]
  },
  {
   "cell_type": "code",
   "execution_count": 5,
   "id": "76b04375",
   "metadata": {},
   "outputs": [
    {
     "ename": "TypeError",
     "evalue": "zeros_like() missing 1 required positional arguments: \"input\"",
     "output_type": "error",
     "traceback": [
      "\u001b[1;31m---------------------------------------------------------------------------\u001b[0m",
      "\u001b[1;31mTypeError\u001b[0m                                 Traceback (most recent call last)",
      "\u001b[1;32m<ipython-input-5-533afa8a23cc>\u001b[0m in \u001b[0;36m<module>\u001b[1;34m\u001b[0m\n\u001b[0;32m      1\u001b[0m \u001b[1;31m# Example 3 - gives an error here as it is required to pass an input parameter to this function\u001b[0m\u001b[1;33m\u001b[0m\u001b[1;33m\u001b[0m\u001b[1;33m\u001b[0m\u001b[0m\n\u001b[0;32m      2\u001b[0m \u001b[1;33m\u001b[0m\u001b[0m\n\u001b[1;32m----> 3\u001b[1;33m \u001b[0mtorch\u001b[0m\u001b[1;33m.\u001b[0m\u001b[0mzeros_like\u001b[0m\u001b[1;33m(\u001b[0m\u001b[1;33m)\u001b[0m\u001b[1;33m\u001b[0m\u001b[1;33m\u001b[0m\u001b[0m\n\u001b[0m",
      "\u001b[1;31mTypeError\u001b[0m: zeros_like() missing 1 required positional arguments: \"input\""
     ]
    }
   ],
   "source": [
    "# Example 3 - gives an error here as it is required to pass an input parameter to this function\n",
    "\n",
    "torch.zeros_like()"
   ]
  },
  {
   "cell_type": "markdown",
   "id": "ced69ab5",
   "metadata": {},
   "source": [
    "zeros_like needs an input tensor to create a new tensor of zeros out of it\n",
    "\n",
    "Hence zeros_like() comes handy when we need to create a tensor filled with zeros for the same dimensions as any given tensors which we already have into our codebase."
   ]
  },
  {
   "cell_type": "markdown",
   "id": "3d8b0d67",
   "metadata": {},
   "source": [
    "## Function 2"
   ]
  },
  {
   "cell_type": "code",
   "execution_count": 6,
   "id": "9a6c8eb2",
   "metadata": {},
   "outputs": [
    {
     "data": {
      "text/plain": [
       "tensor([0, 1, 2, 3, 4, 5, 6, 7])"
      ]
     },
     "execution_count": 6,
     "metadata": {},
     "output_type": "execute_result"
    }
   ],
   "source": [
    "# Example 1 - working \n",
    "torch.arange(8)"
   ]
  },
  {
   "cell_type": "markdown",
   "id": "5fc88ce4",
   "metadata": {},
   "source": [
    "Explanation about example Simple tensor created with only one argument (END) given. Therefore, START is by default 0 and the END is not included, we get up to 7 (END -1)."
   ]
  },
  {
   "cell_type": "code",
   "execution_count": 7,
   "id": "e5670b86",
   "metadata": {},
   "outputs": [
    {
     "data": {
      "text/plain": [
       "tensor([ 2,  7, 12, 17, 22, 27, 32, 37, 42, 47, 52, 57, 62, 67, 72, 77, 82, 87,\n",
       "        92, 97])"
      ]
     },
     "execution_count": 7,
     "metadata": {},
     "output_type": "execute_result"
    }
   ],
   "source": [
    "# Example2\n",
    "torch.arange(2,100,5)"
   ]
  },
  {
   "cell_type": "markdown",
   "id": "51a836f1",
   "metadata": {},
   "source": [
    "Explanation about example Tensor that starts with 2 (included), and the following values are added by 5 (STEP). until we reach 99 (END-1). Note that the last value won't be higher than END"
   ]
  },
  {
   "cell_type": "code",
   "execution_count": 8,
   "id": "585f437c",
   "metadata": {},
   "outputs": [
    {
     "ename": "RuntimeError",
     "evalue": "upper bound and larger bound inconsistent with step sign",
     "output_type": "error",
     "traceback": [
      "\u001b[1;31m---------------------------------------------------------------------------\u001b[0m",
      "\u001b[1;31mRuntimeError\u001b[0m                              Traceback (most recent call last)",
      "\u001b[1;32m<ipython-input-8-411c0e4dc2c0>\u001b[0m in \u001b[0;36m<module>\u001b[1;34m\u001b[0m\n\u001b[0;32m      1\u001b[0m \u001b[1;31m# Example 3 - breaking (to illustrate when it breaks)\u001b[0m\u001b[1;33m\u001b[0m\u001b[1;33m\u001b[0m\u001b[1;33m\u001b[0m\u001b[0m\n\u001b[1;32m----> 2\u001b[1;33m \u001b[0mtorch\u001b[0m\u001b[1;33m.\u001b[0m\u001b[0marange\u001b[0m\u001b[1;33m(\u001b[0m\u001b[1;36m5\u001b[0m\u001b[1;33m,\u001b[0m \u001b[1;36m3\u001b[0m\u001b[1;33m,\u001b[0m \u001b[1;36m4\u001b[0m\u001b[1;33m)\u001b[0m\u001b[1;33m\u001b[0m\u001b[1;33m\u001b[0m\u001b[0m\n\u001b[0m",
      "\u001b[1;31mRuntimeError\u001b[0m: upper bound and larger bound inconsistent with step sign"
     ]
    }
   ],
   "source": [
    "# Example 3 - breaking (to illustrate when it breaks)\n",
    "torch.arange(5, 3, 4)"
   ]
  },
  {
   "cell_type": "markdown",
   "id": "2ed08d2a",
   "metadata": {},
   "source": [
    "Explanation about example In this simple example, when START is bigger than END, the spet sign must be negative in the sense that it is counting backwards.\n",
    "\n",
    "Closing comments about when to use this function\n",
    "\n",
    "This simple function can be very useful to create Tensors of 1 dimensions and, if more dimensions are required, we can just create them withing the bigger one."
   ]
  },
  {
   "cell_type": "markdown",
   "id": "03363cfb",
   "metadata": {},
   "source": [
    "## Function 3"
   ]
  },
  {
   "cell_type": "code",
   "execution_count": 9,
   "id": "40f2e64a",
   "metadata": {},
   "outputs": [
    {
     "name": "stdout",
     "output_type": "stream",
     "text": [
      "tensor([ 0,  5, 10, 15, 20])\n"
     ]
    },
    {
     "data": {
      "text/plain": [
       "(tensor([[1., 2.]]), tensor([[3., 4.]]))"
      ]
     },
     "execution_count": 9,
     "metadata": {},
     "output_type": "execute_result"
    }
   ],
   "source": [
    "# Example 1 - working\n",
    "t2=torch.arange(0,21,5)\n",
    "print(t2)\n",
    "torch.chunk(t1,2)"
   ]
  },
  {
   "cell_type": "markdown",
   "id": "e388fb15",
   "metadata": {},
   "source": [
    "Explanation about example Here we see that we first created a tensor ( t2) with the arange function and the we used the chunk fucntion to that tensor and splitted in two different tensor. Note that the second tensor has only two elements instead of three of the first element. This happens becaues the total values for the tensor1 were 5 and it's not an even number."
   ]
  },
  {
   "cell_type": "code",
   "execution_count": 10,
   "id": "b905750d",
   "metadata": {},
   "outputs": [
    {
     "name": "stdout",
     "output_type": "stream",
     "text": [
      "tensor([ 0,  5, 10, 15, 20, 25, 30, 35, 40, 45, 50, 55, 60, 65, 70, 75, 80, 85,\n",
      "        90, 95])\n"
     ]
    },
    {
     "data": {
      "text/plain": [
       "(tensor([ 0,  5, 10, 15, 20, 25, 30]),\n",
       " tensor([35, 40, 45, 50, 55, 60, 65]),\n",
       " tensor([70, 75, 80, 85, 90, 95]))"
      ]
     },
     "execution_count": 10,
     "metadata": {},
     "output_type": "execute_result"
    }
   ],
   "source": [
    "# Example2 - working\n",
    "t3=torch.arange(0,100,5)\n",
    "print(t3)\n",
    "torch.chunk(t3,3,0)"
   ]
  },
  {
   "cell_type": "markdown",
   "id": "a0c6bf85",
   "metadata": {},
   "source": [
    "Explanation about example Here we created a tensor (t3) with the arange function; then we created 3 chunks and please note that the last tensor has one less element than the rest."
   ]
  },
  {
   "cell_type": "code",
   "execution_count": 11,
   "id": "fdca1c30",
   "metadata": {},
   "outputs": [
    {
     "name": "stdout",
     "output_type": "stream",
     "text": [
      "tensor([ 0,  5, 10, 15, 20, 25, 30, 35, 40, 45, 50, 55, 60, 65, 70, 75, 80, 85,\n",
      "        90, 95])\n"
     ]
    },
    {
     "ename": "TypeError",
     "evalue": "chunk(): argument 'dim' (position 3) must be int, not float",
     "output_type": "error",
     "traceback": [
      "\u001b[1;31m---------------------------------------------------------------------------\u001b[0m",
      "\u001b[1;31mTypeError\u001b[0m                                 Traceback (most recent call last)",
      "\u001b[1;32m<ipython-input-11-cf917eb176e4>\u001b[0m in \u001b[0;36m<module>\u001b[1;34m\u001b[0m\n\u001b[0;32m      2\u001b[0m \u001b[0mt3\u001b[0m\u001b[1;33m=\u001b[0m\u001b[0mtorch\u001b[0m\u001b[1;33m.\u001b[0m\u001b[0marange\u001b[0m\u001b[1;33m(\u001b[0m\u001b[1;36m0\u001b[0m\u001b[1;33m,\u001b[0m\u001b[1;36m100\u001b[0m\u001b[1;33m,\u001b[0m\u001b[1;36m5\u001b[0m\u001b[1;33m)\u001b[0m\u001b[1;33m\u001b[0m\u001b[1;33m\u001b[0m\u001b[0m\n\u001b[0;32m      3\u001b[0m \u001b[0mprint\u001b[0m\u001b[1;33m(\u001b[0m\u001b[0mt3\u001b[0m\u001b[1;33m)\u001b[0m\u001b[1;33m\u001b[0m\u001b[1;33m\u001b[0m\u001b[0m\n\u001b[1;32m----> 4\u001b[1;33m \u001b[0mtorch\u001b[0m\u001b[1;33m.\u001b[0m\u001b[0mchunk\u001b[0m\u001b[1;33m(\u001b[0m\u001b[0mt2\u001b[0m\u001b[1;33m,\u001b[0m\u001b[1;36m3\u001b[0m\u001b[1;33m,\u001b[0m\u001b[1;33m-\u001b[0m\u001b[1;36m1.0\u001b[0m\u001b[1;33m)\u001b[0m\u001b[1;33m\u001b[0m\u001b[1;33m\u001b[0m\u001b[0m\n\u001b[0m",
      "\u001b[1;31mTypeError\u001b[0m: chunk(): argument 'dim' (position 3) must be int, not float"
     ]
    }
   ],
   "source": [
    "# Example3\n",
    "t3=torch.arange(0,100,5)\n",
    "print(t3)\n",
    "torch.chunk(t2,3,-1.0)"
   ]
  },
  {
   "cell_type": "markdown",
   "id": "77130f09",
   "metadata": {},
   "source": [
    "Explanation about example Same case as above, however we used a float value for the dim parameter; only integers are allowed here.\n",
    "\n",
    "Closing comments about when to use this function Same as before, we can manipulate the data of our tensors and adjust to the relevant case there is at the moment, note that the restrictions for the dim parameter are not very straigth."
   ]
  },
  {
   "cell_type": "markdown",
   "id": "3a32d78d",
   "metadata": {},
   "source": [
    "## Function4- "
   ]
  },
  {
   "cell_type": "code",
   "execution_count": 12,
   "id": "64f776fc",
   "metadata": {},
   "outputs": [
    {
     "data": {
      "text/plain": [
       "tensor([[0., 1.],\n",
       "        [2., 3.]])"
      ]
     },
     "execution_count": 12,
     "metadata": {},
     "output_type": "execute_result"
    }
   ],
   "source": [
    "# Example1-working\n",
    "t3=torch.arange(4.)\n",
    "torch.reshape(t3,(2,2))"
   ]
  },
  {
   "cell_type": "markdown",
   "id": "e8bf8f84",
   "metadata": {},
   "source": [
    "Explation about example First the tensor(t3) was created with the arrange method.\n",
    "\n",
    "Then we Reshape the function and transformed into(2 x 2 matrix)."
   ]
  },
  {
   "cell_type": "markdown",
   "id": "b969c9b6",
   "metadata": {},
   "source": []
  },
  {
   "cell_type": "code",
   "execution_count": 13,
   "id": "0bb03acf",
   "metadata": {},
   "outputs": [
    {
     "data": {
      "text/plain": [
       "tensor([[ 0.,  1.,  2.,  3.],\n",
       "        [ 4.,  5.,  6.,  7.],\n",
       "        [ 8.,  9., 10., 11.],\n",
       "        [12., 13., 14., 15.]])"
      ]
     },
     "execution_count": 13,
     "metadata": {},
     "output_type": "execute_result"
    }
   ],
   "source": [
    "# Example2 - working\n",
    "t4= torch.arange(16.)\n",
    "torch.reshape(t4,(4,4))"
   ]
  },
  {
   "cell_type": "markdown",
   "id": "f4e9667f",
   "metadata": {},
   "source": [
    "Explation of this example is same as above, here we reshape tesnor(t4) to a new a desire shape"
   ]
  },
  {
   "cell_type": "code",
   "execution_count": 14,
   "id": "2bca804e",
   "metadata": {},
   "outputs": [
    {
     "ename": "RuntimeError",
     "evalue": "shape '[3, 3]' is invalid for input of size 16",
     "output_type": "error",
     "traceback": [
      "\u001b[1;31m---------------------------------------------------------------------------\u001b[0m",
      "\u001b[1;31mRuntimeError\u001b[0m                              Traceback (most recent call last)",
      "\u001b[1;32m<ipython-input-14-421976c60d5d>\u001b[0m in \u001b[0;36m<module>\u001b[1;34m\u001b[0m\n\u001b[0;32m      1\u001b[0m \u001b[1;31m# Example 3 - breaking (to illustrate when it breaks)\u001b[0m\u001b[1;33m\u001b[0m\u001b[1;33m\u001b[0m\u001b[1;33m\u001b[0m\u001b[0m\n\u001b[1;32m----> 2\u001b[1;33m \u001b[0mtorch\u001b[0m\u001b[1;33m.\u001b[0m\u001b[0mreshape\u001b[0m\u001b[1;33m(\u001b[0m\u001b[0mt4\u001b[0m\u001b[1;33m,\u001b[0m\u001b[1;33m(\u001b[0m\u001b[1;36m3\u001b[0m\u001b[1;33m,\u001b[0m\u001b[1;36m3\u001b[0m\u001b[1;33m)\u001b[0m\u001b[1;33m)\u001b[0m\u001b[1;33m\u001b[0m\u001b[1;33m\u001b[0m\u001b[0m\n\u001b[0m",
      "\u001b[1;31mRuntimeError\u001b[0m: shape '[3, 3]' is invalid for input of size 16"
     ]
    }
   ],
   "source": [
    "# Example 3 - breaking (to illustrate when it breaks)\n",
    "torch.reshape(t4,(3,3))"
   ]
  },
  {
   "cell_type": "markdown",
   "id": "97757412",
   "metadata": {},
   "source": [
    "Explanation about example Here we tried the same a before, however the shape designated to our original table does't match our original elements displayed.\n",
    "\n",
    "Closing comments about when to use this function This function is very powerful and it would surely help with handling of better information regarding children at the partk!"
   ]
  },
  {
   "cell_type": "markdown",
   "id": "2625c14c",
   "metadata": {},
   "source": [
    "# Function 5"
   ]
  },
  {
   "cell_type": "code",
   "execution_count": 15,
   "id": "64ae7268",
   "metadata": {},
   "outputs": [],
   "source": [
    "# Example 1 -Working\n",
    "x=torch.tensor([2,4,5,7,9,10])\n",
    "torch.save(x,'tf.pt')"
   ]
  },
  {
   "cell_type": "markdown",
   "id": "138dcaed",
   "metadata": {},
   "source": [
    "This command saves tensor as tf.pt file in our file section of notebook"
   ]
  },
  {
   "cell_type": "code",
   "execution_count": 16,
   "id": "44c08195",
   "metadata": {},
   "outputs": [],
   "source": [
    "# Example2 - working\n",
    "import io\n",
    "buffer = io.BytesIO()\n",
    "torch.save(x, buffer)  "
   ]
  },
  {
   "cell_type": "markdown",
   "id": "50458a82",
   "metadata": {},
   "source": [
    "we can also save the tensor as a buffer object"
   ]
  },
  {
   "cell_type": "code",
   "execution_count": 17,
   "id": "031c7bf9",
   "metadata": {},
   "outputs": [
    {
     "ename": "TypeError",
     "evalue": "save() missing 2 required positional arguments: 'obj' and 'f'",
     "output_type": "error",
     "traceback": [
      "\u001b[1;31m---------------------------------------------------------------------------\u001b[0m",
      "\u001b[1;31mTypeError\u001b[0m                                 Traceback (most recent call last)",
      "\u001b[1;32m<ipython-input-17-15de6b5c68e1>\u001b[0m in \u001b[0;36m<module>\u001b[1;34m\u001b[0m\n\u001b[0;32m      1\u001b[0m \u001b[1;31m# Example 3 - breaking (to illustrate when it breaks)\u001b[0m\u001b[1;33m\u001b[0m\u001b[1;33m\u001b[0m\u001b[1;33m\u001b[0m\u001b[0m\n\u001b[1;32m----> 2\u001b[1;33m \u001b[0mtorch\u001b[0m\u001b[1;33m.\u001b[0m\u001b[0msave\u001b[0m\u001b[1;33m(\u001b[0m\u001b[1;33m)\u001b[0m\u001b[1;33m\u001b[0m\u001b[1;33m\u001b[0m\u001b[0m\n\u001b[0m",
      "\u001b[1;31mTypeError\u001b[0m: save() missing 2 required positional arguments: 'obj' and 'f'"
     ]
    }
   ],
   "source": [
    "# Example 3 - breaking (to illustrate when it breaks)\n",
    "torch.save()"
   ]
  },
  {
   "cell_type": "markdown",
   "id": "322bb2c0",
   "metadata": {},
   "source": [
    "save() requires a tensor object to be passed in order to save it to a disk\n",
    "\n",
    "This function is very usefull if you want to save some tensor and reuse it into a new notebook or reuse it somewhere else"
   ]
  },
  {
   "cell_type": "code",
   "execution_count": 25,
   "id": "2a8468ad",
   "metadata": {},
   "outputs": [
    {
     "data": {
      "application/javascript": [
       "if (window.IPython && IPython.notebook.kernel) IPython.notebook.kernel.execute('jovian.utils.jupyter.get_notebook_name_saved = lambda: \"' + IPython.notebook.notebook_name + '\"')"
      ],
      "text/plain": [
       "<IPython.core.display.Javascript object>"
      ]
     },
     "metadata": {},
     "output_type": "display_data"
    }
   ],
   "source": [
    "!pip install jovian --upgrade --quiet\n",
    "import jovian"
   ]
  },
  {
   "cell_type": "code",
   "execution_count": 28,
   "id": "200bf164",
   "metadata": {},
   "outputs": [
    {
     "data": {
      "application/javascript": [
       "window.require && require([\"base/js/namespace\"],function(Jupyter){Jupyter.notebook.save_checkpoint()})"
      ],
      "text/plain": [
       "<IPython.core.display.Javascript object>"
      ]
     },
     "metadata": {},
     "output_type": "display_data"
    },
    {
     "name": "stdout",
     "output_type": "stream",
     "text": [
      "[jovian] Updating notebook \"btech15277-18/01-tensor-operations\" on https://jovian.ai/\n",
      "[jovian] Committed successfully! https://jovian.ai/btech15277-18/01-tensor-operations\n"
     ]
    },
    {
     "data": {
      "text/plain": [
       "'https://jovian.ai/btech15277-18/01-tensor-operations'"
      ]
     },
     "execution_count": 28,
     "metadata": {},
     "output_type": "execute_result"
    }
   ],
   "source": [
    "jovian.commit(project='01-tensor-operations')"
   ]
  },
  {
   "cell_type": "code",
   "execution_count": null,
   "id": "c25a9730",
   "metadata": {},
   "outputs": [],
   "source": []
  }
 ],
 "metadata": {
  "kernelspec": {
   "display_name": "Python 3",
   "language": "python",
   "name": "python3"
  },
  "language_info": {
   "codemirror_mode": {
    "name": "ipython",
    "version": 3
   },
   "file_extension": ".py",
   "mimetype": "text/x-python",
   "name": "python",
   "nbconvert_exporter": "python",
   "pygments_lexer": "ipython3",
   "version": "3.6.12"
  }
 },
 "nbformat": 4,
 "nbformat_minor": 5
}
